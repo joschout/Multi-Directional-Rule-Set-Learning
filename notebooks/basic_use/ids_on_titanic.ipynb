{
 "cells": [
  {
   "cell_type": "markdown",
   "metadata": {
    "pycharm": {
     "name": "#%% md\n"
    }
   },
   "source": [
    "# Basic use of single-target IDS"
   ]
  },
  {
   "cell_type": "code",
   "execution_count": 20,
   "outputs": [
    {
     "name": "stdout",
     "output_type": "stream",
     "text": [
      "The autoreload extension is already loaded. To reload it, use:\n",
      "  %reload_ext autoreload\n"
     ]
    }
   ],
   "source": [
    "%load_ext autoreload\n",
    "%autoreload 2\n",
    "\n",
    "import os\n",
    "\n",
    "from typing import List\n",
    "import pandas as pd\n",
    "\n",
    "from mdrsl.project_info import project_dir\n",
    "from mdrsl.toy_data.titanic import prepare_data_titanic\n",
    "from mdrsl.data_structures.rules.pretty_printing import ids_car_to_pretty_string"
   ],
   "metadata": {
    "collapsed": false,
    "pycharm": {
     "name": "#%%\n"
    }
   }
  },
  {
   "cell_type": "markdown",
   "source": [
    "## Loading the Titanic toy dataset"
   ],
   "metadata": {
    "collapsed": false
   }
  },
  {
   "cell_type": "code",
   "execution_count": 21,
   "outputs": [
    {
     "data": {
      "text/plain": "  Passenger_Cat Age_Cat Gender  Survived\n0     3rd_class   adult   male         0\n1          crew   adult   male         0\n2          crew   adult   male         0\n3     2nd_class   adult   male         0\n4          crew   adult   male         0",
      "text/html": "<div>\n<style scoped>\n    .dataframe tbody tr th:only-of-type {\n        vertical-align: middle;\n    }\n\n    .dataframe tbody tr th {\n        vertical-align: top;\n    }\n\n    .dataframe thead th {\n        text-align: right;\n    }\n</style>\n<table border=\"1\" class=\"dataframe\">\n  <thead>\n    <tr style=\"text-align: right;\">\n      <th></th>\n      <th>Passenger_Cat</th>\n      <th>Age_Cat</th>\n      <th>Gender</th>\n      <th>Survived</th>\n    </tr>\n  </thead>\n  <tbody>\n    <tr>\n      <th>0</th>\n      <td>3rd_class</td>\n      <td>adult</td>\n      <td>male</td>\n      <td>0</td>\n    </tr>\n    <tr>\n      <th>1</th>\n      <td>crew</td>\n      <td>adult</td>\n      <td>male</td>\n      <td>0</td>\n    </tr>\n    <tr>\n      <th>2</th>\n      <td>crew</td>\n      <td>adult</td>\n      <td>male</td>\n      <td>0</td>\n    </tr>\n    <tr>\n      <th>3</th>\n      <td>2nd_class</td>\n      <td>adult</td>\n      <td>male</td>\n      <td>0</td>\n    </tr>\n    <tr>\n      <th>4</th>\n      <td>crew</td>\n      <td>adult</td>\n      <td>male</td>\n      <td>0</td>\n    </tr>\n  </tbody>\n</table>\n</div>"
     },
     "execution_count": 21,
     "metadata": {},
     "output_type": "execute_result"
    }
   ],
   "source": [
    "data_dir = os.path.join(project_dir, 'data/external')\n",
    "\n",
    "df_train: pd.DataFrame\n",
    "df_test: pd.DataFrame\n",
    "df_train, df_test, dataset_name = prepare_data_titanic(data_dir, prop=0.25)\n",
    "df_train.head()"
   ],
   "metadata": {
    "collapsed": false,
    "pycharm": {
     "name": "#%%\n"
    }
   }
  },
  {
   "cell_type": "code",
   "execution_count": 22,
   "metadata": {
    "pycharm": {
     "name": "#%%\n"
    }
   },
   "outputs": [
    {
     "data": {
      "text/plain": "Passenger_Cat    4\nAge_Cat          2\nGender           2\nSurvived         2\ndtype: int64"
     },
     "execution_count": 22,
     "metadata": {},
     "output_type": "execute_result"
    }
   ],
   "source": [
    "df_train.nunique()"
   ]
  },
  {
   "cell_type": "markdown",
   "source": [
    "## Mining multi-target association rules"
   ],
   "metadata": {
    "collapsed": false
   }
  },
  {
   "cell_type": "code",
   "execution_count": 23,
   "metadata": {
    "pycharm": {
     "name": "#%%\n"
    }
   },
   "outputs": [
    {
     "name": "stdout",
     "output_type": "stream",
     "text": [
      "STARTING top_rules\n",
      "--- iteration 1 ---\n",
      "Running apriori with setting: confidence=0.5, support=0.05, min_length=2, max_length=3, MAX_RULE_LEN=4\n",
      "Rule count: 52, Iteration: 1\n",
      "\tTarget rule count satisfied: 50\n",
      "--- end iteration 1 ---\n",
      "-----------------------\n",
      "FINISHED top_rules after 1 iterations\n"
     ]
    }
   ],
   "source": [
    "# NOTE: requires PyFIM\n",
    "from pyarc.data_structures.car import ClassAssocationRule\n",
    "from mdrsl.rule_generation.association_rule_mining.fim_impl.mine_st_rules_with_fim import mine_CARs\n",
    "\n",
    "support_threshold = 0.1\n",
    "cars: List[ClassAssocationRule] = mine_CARs(df_train, rule_cutoff=50, sample=False)"
   ]
  },
  {
   "cell_type": "code",
   "execution_count": 24,
   "metadata": {
    "pycharm": {
     "name": "#%%\n"
    }
   },
   "outputs": [
    {
     "name": "stdout",
     "output_type": "stream",
     "text": [
      "Passenger_Cat=2nd_class, Age_Cat=child -> Survived=1\n",
      "Passenger_Cat=1st_class, Age_Cat=child -> Survived=1\n",
      "Passenger_Cat=1st_class, Gender=female -> Survived=1\n",
      "Passenger_Cat=2nd_class, Gender=female -> Survived=1\n",
      "Passenger_Cat=2nd_class, Gender=male -> Survived=0\n",
      "Gender=male, Passenger_Cat=3rd_class -> Survived=0\n",
      "Passenger_Cat=crew, Gender=female -> Survived=1\n",
      "Age_Cat=adult, Gender=male -> Survived=0\n",
      "Gender=male -> Survived=0\n",
      "Passenger_Cat=crew, Gender=male -> Survived=0\n",
      "Passenger_Cat=crew -> Survived=0\n",
      "Age_Cat=adult, Passenger_Cat=crew -> Survived=0\n",
      "Age_Cat=adult, Passenger_Cat=3rd_class -> Survived=0\n",
      "Age_Cat=adult, Gender=female -> Survived=1\n",
      "Passenger_Cat=3rd_class -> Survived=0\n",
      "Gender=female -> Survived=1\n",
      "Age_Cat=adult -> Survived=0\n",
      "Passenger_Cat=1st_class -> Survived=1\n",
      "Passenger_Cat=1st_class, Age_Cat=adult -> Survived=1\n",
      "Passenger_Cat=1st_class, Gender=male -> Survived=0\n",
      "Passenger_Cat=2nd_class, Age_Cat=adult -> Survived=0\n",
      "Age_Cat=child, Passenger_Cat=3rd_class -> Survived=0\n",
      "Age_Cat=child, Gender=female -> Survived=1\n",
      "Passenger_Cat=2nd_class -> Survived=0\n",
      "Gender=male, Age_Cat=child -> Survived=0\n",
      "Passenger_Cat=3rd_class, Gender=female -> Survived=0\n",
      "Age_Cat=child -> Survived=1\n",
      "Age_Cat=child -> Survived=0\n",
      "Passenger_Cat=3rd_class, Gender=female -> Survived=1\n",
      "Gender=male, Age_Cat=child -> Survived=1\n",
      "Passenger_Cat=2nd_class -> Survived=1\n",
      "Age_Cat=child, Gender=female -> Survived=0\n",
      "Age_Cat=child, Passenger_Cat=3rd_class -> Survived=1\n",
      "Passenger_Cat=2nd_class, Age_Cat=adult -> Survived=1\n",
      "Passenger_Cat=1st_class, Gender=male -> Survived=1\n",
      "Passenger_Cat=1st_class, Age_Cat=adult -> Survived=0\n",
      "Passenger_Cat=1st_class -> Survived=0\n",
      "Age_Cat=adult -> Survived=1\n",
      "Gender=female -> Survived=0\n",
      "Passenger_Cat=3rd_class -> Survived=1\n",
      "Age_Cat=adult, Gender=female -> Survived=0\n",
      "Age_Cat=adult, Passenger_Cat=3rd_class -> Survived=1\n",
      "Passenger_Cat=crew -> Survived=1\n",
      "Age_Cat=adult, Passenger_Cat=crew -> Survived=1\n",
      "Passenger_Cat=crew, Gender=male -> Survived=1\n",
      "Gender=male -> Survived=1\n",
      "Age_Cat=adult, Gender=male -> Survived=1\n",
      "Passenger_Cat=crew, Gender=female -> Survived=0\n",
      "Gender=male, Passenger_Cat=3rd_class -> Survived=1\n",
      "Passenger_Cat=2nd_class, Gender=male -> Survived=1\n"
     ]
    }
   ],
   "source": [
    "rule: ClassAssocationRule\n",
    "for rule in cars:\n",
    "    print(ids_car_to_pretty_string(rule))\n"
   ]
  },
  {
   "cell_type": "markdown",
   "source": [
    "## Fitting a single-target IDS model"
   ],
   "metadata": {
    "collapsed": false
   }
  },
  {
   "cell_type": "code",
   "execution_count": 25,
   "metadata": {
    "pycharm": {
     "name": "#%%\n"
    }
   },
   "outputs": [],
   "source": [
    "from pyarc.qcba.data_structures import QuantitativeDataFrame\n",
    "quant_dataframe_train = QuantitativeDataFrame(df_train)\n",
    "quant_dataframe_test = QuantitativeDataFrame(df_test)"
   ]
  },
  {
   "cell_type": "code",
   "execution_count": 26,
   "metadata": {
    "pycharm": {
     "name": "#%%\n"
    }
   },
   "outputs": [
    {
     "name": "stdout",
     "output_type": "stream",
     "text": [
      "cover cache prepared\n",
      "overlap cache prepared\n",
      "solution set size 4\n"
     ]
    },
    {
     "name": "stderr",
     "output_type": "stream",
     "text": [
      "/home/joschout/Documents/Repos/MULES/Multi-Directional_Rule_Set_Learning/external_dependencies/SubmodularMaximization/submodmax/abstract_double_greedy_search.py:84: UserWarning: remove equality check\n",
      "  warnings.warn(\"remove equality check\")\n"
     ]
    },
    {
     "data": {
      "text/plain": "<mdrsl.rule_models.ids.model_fitting.ids_without_value_reuse.IDS at 0x7f42772528b0>"
     },
     "execution_count": 26,
     "metadata": {},
     "output_type": "execute_result"
    }
   ],
   "source": [
    "from mdrsl.rule_models.ids.model_fitting.ids_without_value_reuse import IDS\n",
    "from submodmax.value_reuse.randomized_double_greedy_search import RandomizedDoubleGreedySearch\n",
    "\n",
    "RandomizedDoubleGreedySearch.N_TRIES = 1\n",
    "\n",
    "ids = IDS()\n",
    "algorithm=\"RDGS\"\n",
    "debug=False\n",
    "ids.fit(quant_dataframe_train, class_association_rules=cars, algorithm=algorithm,debug=debug)"
   ]
  },
  {
   "cell_type": "code",
   "execution_count": 27,
   "metadata": {
    "pycharm": {
     "name": "#%%\n"
    }
   },
   "outputs": [
    {
     "name": "stdout",
     "output_type": "stream",
     "text": [
      "IDS classifier (4 rules)\n",
      "\tDefault value strategy: majority_class_in_all\n",
      "\tDefault value: 0\n",
      "\n"
     ]
    }
   ],
   "source": [
    "from mdrsl.rule_models.ids.ids_classifier import IDSClassifier\n",
    "from pyids.data_structures.ids_rule import IDSRule\n",
    "\n",
    "classifier: IDSClassifier = ids.clf\n",
    "classifier_rules: List[IDSRule]  = classifier.rules\n",
    "print(classifier)"
   ]
  },
  {
   "cell_type": "code",
   "execution_count": 28,
   "metadata": {
    "pycharm": {
     "name": "#%%\n"
    }
   },
   "outputs": [
    {
     "name": "stdout",
     "output_type": "stream",
     "text": [
      "Gender=male -> Survived=0\n",
      "Passenger_Cat=3rd_class -> Survived=0\n",
      "Age_Cat=adult, Gender=female -> Survived=1\n",
      "Age_Cat=adult, Gender=male -> Survived=1\n"
     ]
    }
   ],
   "source": [
    "rule: IDSRule\n",
    "for rule in classifier_rules:\n",
    "    print(ids_car_to_pretty_string(rule.car))"
   ]
  },
  {
   "cell_type": "code",
   "execution_count": 29,
   "metadata": {
    "pycharm": {
     "name": "#%%\n"
    }
   },
   "outputs": [
    {
     "name": "stdout",
     "output_type": "stream",
     "text": [
      "accuracy: 0.775\n"
     ]
    }
   ],
   "source": [
    "acc = ids.score(quant_dataframe_test)\n",
    "print('accuracy:', acc)"
   ]
  },
  {
   "cell_type": "code",
   "execution_count": 30,
   "metadata": {
    "pycharm": {
     "name": "#%%\n"
    }
   },
   "outputs": [
    {
     "name": "stdout",
     "output_type": "stream",
     "text": [
      "Rule length stats: count=4, sum=6, min=1, average=1.5, max=2\n",
      "Fraction bodily overlap: 0.21174242424242423\n",
      "Fraction uncovered examples: 0.013636363636363669\n",
      "Fraction predicted classes: 1.0\n",
      "\n"
     ]
    }
   ],
   "source": [
    "from pyids.data_structures.ids_ruleset import IDSRuleSet\n",
    "from mdrsl.rule_models.ids.model_evaluation.ids_interpretability_metrics import (\n",
    "    IDSInterpretabilityStatistics, IDSInterpretabilityStatisticsCalculator)\n",
    "\n",
    "stats: IDSInterpretabilityStatistics = IDSInterpretabilityStatisticsCalculator.calculate_ruleset_statistics(\n",
    "    IDSRuleSet(classifier_rules), quant_dataframe_test)\n",
    "print(stats)"
   ]
  },
  {
   "cell_type": "code",
   "execution_count": null,
   "outputs": [],
   "source": [],
   "metadata": {
    "collapsed": false,
    "pycharm": {
     "name": "#%%\n"
    }
   }
  }
 ],
 "metadata": {
  "kernelspec": {
   "display_name": "Python 3",
   "language": "python",
   "name": "python3"
  },
  "language_info": {
   "codemirror_mode": {
    "name": "ipython",
    "version": 3
   },
   "file_extension": ".py",
   "mimetype": "text/x-python",
   "name": "python",
   "nbconvert_exporter": "python",
   "pygments_lexer": "ipython3",
   "version": "3.7.3"
  }
 },
 "nbformat": 4,
 "nbformat_minor": 1
}