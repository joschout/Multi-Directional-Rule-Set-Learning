{
 "cells": [
  {
   "cell_type": "markdown",
   "source": [
    "# Basic use of MIDS"
   ],
   "metadata": {
    "collapsed": false,
    "pycharm": {
     "name": "#%% md\n"
    }
   }
  },
  {
   "cell_type": "code",
   "execution_count": 1,
   "outputs": [],
   "source": [
    "import os\n",
    "\n",
    "import numpy as np\n",
    "from typing import List, Dict\n",
    "import pandas as pd\n",
    "\n",
    "from data_structures.rules.multi_target_class_association_rule import MCAR\n",
    "\n",
    "from mdrsl.toy_data.titanic import prepare_data_titanic\n",
    "\n",
    "from mdrsl.rule_generation.association_rule_mining.mlext_impl.mlext_interaction import mine_MCARs_mlext\n",
    "from mdrsl.rule_models.mids.model_fitting.mids_with_value_reuse import MIDSValueReuse\n",
    "\n",
    "%load_ext autoreload\n",
    "%autoreload 2"
   ],
   "metadata": {
    "collapsed": false,
    "pycharm": {
     "name": "#%%\n"
    }
   }
  },
  {
   "cell_type": "markdown",
   "source": [
    "## Loading the Titanic toy dataset"
   ],
   "metadata": {
    "collapsed": false,
    "pycharm": {
     "name": "#%% md\n"
    }
   }
  },
  {
   "cell_type": "code",
   "execution_count": 2,
   "outputs": [],
   "source": [
    "from mdrsl.project_info import project_dir\n",
    "data_dir = os.path.join(project_dir, 'data/external')"
   ],
   "metadata": {
    "collapsed": false,
    "pycharm": {
     "name": "#%%\n"
    }
   }
  },
  {
   "cell_type": "code",
   "execution_count": 3,
   "metadata": {
    "pycharm": {
     "name": "#%%\n"
    }
   },
   "outputs": [
    {
     "data": {
      "text/plain": "  Passenger_Cat Age_Cat  Gender  Survived\n0     3rd_class   adult    male         0\n1     3rd_class   adult  female         0\n2          crew   adult    male         0\n3          crew   adult    male         0\n4     2nd_class   adult    male         0",
      "text/html": "<div>\n<style scoped>\n    .dataframe tbody tr th:only-of-type {\n        vertical-align: middle;\n    }\n\n    .dataframe tbody tr th {\n        vertical-align: top;\n    }\n\n    .dataframe thead th {\n        text-align: right;\n    }\n</style>\n<table border=\"1\" class=\"dataframe\">\n  <thead>\n    <tr style=\"text-align: right;\">\n      <th></th>\n      <th>Passenger_Cat</th>\n      <th>Age_Cat</th>\n      <th>Gender</th>\n      <th>Survived</th>\n    </tr>\n  </thead>\n  <tbody>\n    <tr>\n      <th>0</th>\n      <td>3rd_class</td>\n      <td>adult</td>\n      <td>male</td>\n      <td>0</td>\n    </tr>\n    <tr>\n      <th>1</th>\n      <td>3rd_class</td>\n      <td>adult</td>\n      <td>female</td>\n      <td>0</td>\n    </tr>\n    <tr>\n      <th>2</th>\n      <td>crew</td>\n      <td>adult</td>\n      <td>male</td>\n      <td>0</td>\n    </tr>\n    <tr>\n      <th>3</th>\n      <td>crew</td>\n      <td>adult</td>\n      <td>male</td>\n      <td>0</td>\n    </tr>\n    <tr>\n      <th>4</th>\n      <td>2nd_class</td>\n      <td>adult</td>\n      <td>male</td>\n      <td>0</td>\n    </tr>\n  </tbody>\n</table>\n</div>"
     },
     "execution_count": 3,
     "metadata": {},
     "output_type": "execute_result"
    }
   ],
   "source": [
    "df_train: pd.DataFrame\n",
    "df_test: pd.DataFrame\n",
    "\n",
    "df_train, df_test, dataset_name = prepare_data_titanic(data_dir, prop=0.25)\n",
    "df_train.head()"
   ]
  },
  {
   "cell_type": "code",
   "execution_count": 4,
   "outputs": [
    {
     "data": {
      "text/plain": "array(['Passenger_Cat', 'Age_Cat', 'Gender', 'Survived'], dtype=object)"
     },
     "execution_count": 4,
     "metadata": {},
     "output_type": "execute_result"
    }
   ],
   "source": [
    "cols: np.ndarray = df_train.columns.values\n",
    "cols"
   ],
   "metadata": {
    "collapsed": false,
    "pycharm": {
     "name": "#%%\n"
    }
   }
  },
  {
   "cell_type": "markdown",
   "source": [
    "## Mining multi-target association rules"
   ],
   "metadata": {
    "collapsed": false,
    "pycharm": {
     "name": "#%% md\n"
    }
   }
  },
  {
   "cell_type": "code",
   "execution_count": 5,
   "outputs": [],
   "source": [
    "min_support = 0.01\n",
    "min_confidence = 0.5\n",
    "rule_cutoff = 150\n",
    "\n",
    "cars: List[MCAR]\n",
    "time_info: Dict[str, float]\n",
    "\n",
    "cars, time_info = mine_MCARs_mlext(df_train, min_support=min_support, min_confidence=min_confidence)\n",
    "if len(cars) > rule_cutoff:\n",
    "    cars = cars[:rule_cutoff]"
   ],
   "metadata": {
    "collapsed": false,
    "pycharm": {
     "name": "#%%\n"
    }
   }
  },
  {
   "cell_type": "code",
   "execution_count": 6,
   "metadata": {
    "pycharm": {
     "name": "#%%\n"
    }
   },
   "outputs": [
    {
     "name": "stdout",
     "output_type": "stream",
     "text": [
      "Age_Cat=adult -> Gender=male\n",
      "Gender=male -> Age_Cat=adult\n",
      "Survived=0 -> Age_Cat=adult\n",
      "Age_Cat=adult -> Survived=0\n",
      "Survived=0 -> Gender=male\n",
      "Gender=male -> Survived=0\n",
      "Age_Cat=adult, Survived=0 -> Gender=male\n",
      "Gender=male, Survived=0 -> Age_Cat=adult\n",
      "Age_Cat=adult, Gender=male -> Survived=0\n",
      "Survived=0 -> Age_Cat=adult, Gender=male\n",
      "Age_Cat=adult -> Gender=male, Survived=0\n",
      "Gender=male -> Age_Cat=adult, Survived=0\n",
      "Passenger_Cat=3rd_class -> Age_Cat=adult\n",
      "Passenger_Cat=3rd_class -> Survived=0\n",
      "Passenger_Cat=3rd_class -> Gender=male\n",
      "Passenger_Cat=3rd_class, Survived=0 -> Age_Cat=adult\n",
      "Age_Cat=adult, Passenger_Cat=3rd_class -> Survived=0\n",
      "Passenger_Cat=3rd_class -> Age_Cat=adult, Survived=0\n",
      "Age_Cat=adult, Passenger_Cat=3rd_class -> Gender=male\n",
      "Gender=male, Passenger_Cat=3rd_class -> Age_Cat=adult\n",
      "Passenger_Cat=3rd_class -> Age_Cat=adult, Gender=male\n",
      "Passenger_Cat=3rd_class, Survived=0 -> Gender=male\n",
      "Gender=male, Passenger_Cat=3rd_class -> Survived=0\n",
      "Passenger_Cat=3rd_class -> Gender=male, Survived=0\n",
      "Age_Cat=adult, Passenger_Cat=3rd_class, Survived=0 -> Gender=male\n",
      "Gender=male, Passenger_Cat=3rd_class, Survived=0 -> Age_Cat=adult\n",
      "Age_Cat=adult, Gender=male, Passenger_Cat=3rd_class -> Survived=0\n",
      "Passenger_Cat=3rd_class, Survived=0 -> Age_Cat=adult, Gender=male\n",
      "Age_Cat=adult, Passenger_Cat=3rd_class -> Gender=male, Survived=0\n",
      "Gender=male, Passenger_Cat=3rd_class -> Age_Cat=adult, Survived=0\n",
      "Passenger_Cat=3rd_class -> Age_Cat=adult, Gender=male, Survived=0\n",
      "Gender=female -> Age_Cat=adult\n",
      "Gender=female -> Survived=1\n",
      "Gender=female, Passenger_Cat=3rd_class -> Age_Cat=adult\n",
      "Passenger_Cat=3rd_class, Survived=1 -> Gender=female\n",
      "Gender=female, Passenger_Cat=3rd_class, Survived=1 -> Age_Cat=adult\n",
      "Age_Cat=adult, Passenger_Cat=3rd_class, Survived=1 -> Gender=female\n",
      "Gender=female, Survived=0 -> Age_Cat=adult\n",
      "Gender=female, Survived=0 -> Passenger_Cat=3rd_class\n",
      "Gender=female, Passenger_Cat=3rd_class -> Survived=0\n",
      "Age_Cat=adult, Gender=female, Survived=0 -> Passenger_Cat=3rd_class\n",
      "Gender=female, Passenger_Cat=3rd_class, Survived=0 -> Age_Cat=adult\n",
      "Age_Cat=adult, Gender=female, Passenger_Cat=3rd_class -> Survived=0\n",
      "Gender=female, Survived=0 -> Age_Cat=adult, Passenger_Cat=3rd_class\n",
      "Age_Cat=adult, Gender=female -> Survived=1\n",
      "Gender=female, Survived=1 -> Age_Cat=adult\n",
      "Gender=female -> Age_Cat=adult, Survived=1\n",
      "Gender=female, Passenger_Cat=crew -> Age_Cat=adult\n",
      "Passenger_Cat=crew -> Age_Cat=adult\n",
      "Passenger_Cat=crew -> Gender=male\n",
      "Passenger_Cat=crew -> Survived=0\n",
      "Age_Cat=adult, Passenger_Cat=crew -> Gender=male\n",
      "Age_Cat=adult, Gender=male -> Passenger_Cat=crew\n",
      "Gender=male, Passenger_Cat=crew -> Age_Cat=adult\n",
      "Passenger_Cat=crew -> Age_Cat=adult, Gender=male\n",
      "Passenger_Cat=crew, Survived=0 -> Age_Cat=adult\n",
      "Age_Cat=adult, Passenger_Cat=crew -> Survived=0\n",
      "Passenger_Cat=crew -> Age_Cat=adult, Survived=0\n",
      "Passenger_Cat=crew, Survived=0 -> Gender=male\n",
      "Gender=male, Passenger_Cat=crew -> Survived=0\n",
      "Passenger_Cat=crew -> Gender=male, Survived=0\n",
      "Age_Cat=adult, Passenger_Cat=crew, Survived=0 -> Gender=male\n",
      "Gender=male, Passenger_Cat=crew, Survived=0 -> Age_Cat=adult\n",
      "Age_Cat=adult, Gender=male, Passenger_Cat=crew -> Survived=0\n",
      "Passenger_Cat=crew, Survived=0 -> Age_Cat=adult, Gender=male\n",
      "Age_Cat=adult, Passenger_Cat=crew -> Gender=male, Survived=0\n",
      "Gender=male, Passenger_Cat=crew -> Age_Cat=adult, Survived=0\n",
      "Passenger_Cat=crew -> Age_Cat=adult, Gender=male, Survived=0\n",
      "Passenger_Cat=2nd_class -> Age_Cat=adult\n",
      "Passenger_Cat=2nd_class -> Gender=male\n",
      "Passenger_Cat=2nd_class -> Survived=0\n",
      "Age_Cat=adult, Passenger_Cat=2nd_class -> Gender=male\n",
      "Gender=male, Passenger_Cat=2nd_class -> Age_Cat=adult\n",
      "Passenger_Cat=2nd_class -> Age_Cat=adult, Gender=male\n",
      "Passenger_Cat=2nd_class, Survived=0 -> Age_Cat=adult\n",
      "Age_Cat=adult, Passenger_Cat=2nd_class -> Survived=0\n",
      "Passenger_Cat=2nd_class -> Age_Cat=adult, Survived=0\n",
      "Passenger_Cat=2nd_class, Survived=0 -> Gender=male\n",
      "Gender=male, Passenger_Cat=2nd_class -> Survived=0\n",
      "Passenger_Cat=2nd_class -> Gender=male, Survived=0\n",
      "Age_Cat=adult, Passenger_Cat=2nd_class, Survived=0 -> Gender=male\n",
      "Gender=male, Passenger_Cat=2nd_class, Survived=0 -> Age_Cat=adult\n",
      "Age_Cat=adult, Gender=male, Passenger_Cat=2nd_class -> Survived=0\n",
      "Passenger_Cat=2nd_class, Survived=0 -> Age_Cat=adult, Gender=male\n",
      "Age_Cat=adult, Passenger_Cat=2nd_class -> Gender=male, Survived=0\n",
      "Gender=male, Passenger_Cat=2nd_class -> Age_Cat=adult, Survived=0\n",
      "Passenger_Cat=2nd_class -> Age_Cat=adult, Gender=male, Survived=0\n",
      "Gender=female, Passenger_Cat=2nd_class -> Age_Cat=adult\n",
      "Gender=female, Passenger_Cat=2nd_class -> Survived=1\n",
      "Passenger_Cat=2nd_class, Survived=1 -> Gender=female\n",
      "Age_Cat=adult, Gender=female, Passenger_Cat=2nd_class -> Survived=1\n",
      "Gender=female, Passenger_Cat=2nd_class, Survived=1 -> Age_Cat=adult\n",
      "Age_Cat=adult, Passenger_Cat=2nd_class, Survived=1 -> Gender=female\n",
      "Gender=female, Passenger_Cat=2nd_class -> Age_Cat=adult, Survived=1\n",
      "Passenger_Cat=2nd_class, Survived=1 -> Age_Cat=adult, Gender=female\n",
      "Passenger_Cat=2nd_class, Survived=1 -> Age_Cat=adult\n",
      "Survived=1 -> Age_Cat=adult\n",
      "Survived=1 -> Gender=male\n",
      "Age_Cat=adult, Survived=1 -> Gender=male\n",
      "Gender=male, Survived=1 -> Age_Cat=adult\n",
      "Passenger_Cat=3rd_class, Survived=1 -> Age_Cat=adult\n",
      "Gender=male, Passenger_Cat=3rd_class, Survived=1 -> Age_Cat=adult\n",
      "Passenger_Cat=crew, Survived=1 -> Age_Cat=adult\n",
      "Passenger_Cat=crew, Survived=1 -> Gender=male\n",
      "Gender=male, Survived=1 -> Passenger_Cat=crew\n",
      "Age_Cat=adult, Passenger_Cat=crew, Survived=1 -> Gender=male\n",
      "Age_Cat=adult, Gender=male, Survived=1 -> Passenger_Cat=crew\n",
      "Gender=male, Passenger_Cat=crew, Survived=1 -> Age_Cat=adult\n",
      "Passenger_Cat=crew, Survived=1 -> Age_Cat=adult, Gender=male\n",
      "Gender=male, Survived=1 -> Age_Cat=adult, Passenger_Cat=crew\n",
      "Age_Cat=child -> Passenger_Cat=3rd_class\n",
      "Age_Cat=child -> Gender=male\n",
      "Age_Cat=child -> Survived=1\n",
      "Age_Cat=child, Passenger_Cat=3rd_class -> Gender=male\n",
      "Age_Cat=child, Gender=male -> Passenger_Cat=3rd_class\n",
      "Age_Cat=child, Survived=0 -> Passenger_Cat=3rd_class\n",
      "Age_Cat=child, Passenger_Cat=3rd_class -> Survived=0\n",
      "Age_Cat=child, Survived=0 -> Gender=male\n",
      "Age_Cat=child, Gender=male -> Survived=0\n",
      "Age_Cat=child, Passenger_Cat=3rd_class, Survived=0 -> Gender=male\n",
      "Age_Cat=child, Gender=male, Survived=0 -> Passenger_Cat=3rd_class\n",
      "Age_Cat=child, Gender=male, Passenger_Cat=3rd_class -> Survived=0\n",
      "Age_Cat=child, Survived=0 -> Gender=male, Passenger_Cat=3rd_class\n",
      "Age_Cat=child, Gender=male -> Passenger_Cat=3rd_class, Survived=0\n",
      "Age_Cat=child, Gender=female -> Passenger_Cat=3rd_class\n",
      "Age_Cat=child, Gender=female -> Survived=1\n",
      "Age_Cat=child, Survived=1 -> Gender=female\n",
      "Age_Cat=child, Survived=1 -> Passenger_Cat=3rd_class\n",
      "Age_Cat=child, Survived=1 -> Gender=male\n",
      "Passenger_Cat=1st_class -> Age_Cat=adult\n",
      "Passenger_Cat=1st_class -> Survived=1\n",
      "Passenger_Cat=1st_class -> Gender=male\n",
      "Age_Cat=adult, Passenger_Cat=1st_class -> Survived=1\n",
      "Passenger_Cat=1st_class, Survived=1 -> Age_Cat=adult\n",
      "Passenger_Cat=1st_class -> Age_Cat=adult, Survived=1\n",
      "Gender=female, Passenger_Cat=1st_class -> Age_Cat=adult\n",
      "Gender=female, Passenger_Cat=1st_class -> Survived=1\n",
      "Passenger_Cat=1st_class, Survived=1 -> Gender=female\n",
      "Age_Cat=adult, Gender=female, Passenger_Cat=1st_class -> Survived=1\n",
      "Gender=female, Passenger_Cat=1st_class, Survived=1 -> Age_Cat=adult\n",
      "Age_Cat=adult, Passenger_Cat=1st_class, Survived=1 -> Gender=female\n",
      "Gender=female, Passenger_Cat=1st_class -> Age_Cat=adult, Survived=1\n",
      "Passenger_Cat=1st_class, Survived=1 -> Age_Cat=adult, Gender=female\n",
      "Age_Cat=adult, Passenger_Cat=1st_class -> Gender=male\n",
      "Gender=male, Passenger_Cat=1st_class -> Age_Cat=adult\n",
      "Passenger_Cat=1st_class -> Age_Cat=adult, Gender=male\n",
      "Gender=male, Passenger_Cat=1st_class, Survived=1 -> Age_Cat=adult\n",
      "Passenger_Cat=1st_class, Survived=0 -> Age_Cat=adult\n",
      "Passenger_Cat=1st_class, Survived=0 -> Gender=male\n",
      "Gender=male, Passenger_Cat=1st_class -> Survived=0\n"
     ]
    }
   ],
   "source": [
    "from mdrsl.data_structures.rules.pretty_printing import mids_mcar_to_pretty_string\n",
    "for rule in cars:\n",
    "    print(mids_mcar_to_pretty_string(rule))"
   ]
  },
  {
   "cell_type": "markdown",
   "metadata": {
    "pycharm": {
     "is_executing": false,
     "name": "#%% md\n"
    }
   },
   "source": [
    "## Fitting a MIDS model\n",
    "\n",
    "You can choose whether you want to cache the interactions between rules as used by the objective function.\n",
    "If we cache the interaction between rules, we might find a solution faster.\n",
    "Note that this might not be an option when using a lot of rules, as it might require to much memory."
   ]
  },
  {
   "cell_type": "code",
   "execution_count": 7,
   "outputs": [],
   "source": [
    "from mdrsl.rule_models.mids.objective_function.mids_objective_function_abstract import AbstractMIDSObjectiveFunction\n",
    "\n",
    "from mdrsl.utils.value_collection import ValueCollector\n",
    "\n",
    "ValueCollector.collect_values = True\n",
    "use_targets_from_rule_set = False\n",
    "debug=False\n",
    "AbstractMIDSObjectiveFunction.should_cache_f2_f3 = True\n"
   ],
   "metadata": {
    "collapsed": false,
    "pycharm": {
     "name": "#%%\n"
    }
   }
  },
  {
   "cell_type": "markdown",
   "source": [
    "You can choose different submodular maximization algorithms"
   ],
   "metadata": {
    "collapsed": false,
    "pycharm": {
     "name": "#%% md\n"
    }
   }
  },
  {
   "cell_type": "code",
   "execution_count": 8,
   "outputs": [
    {
     "name": "stderr",
     "output_type": "stream",
     "text": [
      "/home/joschout/Documents/Repos/MULES/Multi-Directional_Rule_Set_Learning/mdrsl/data_handling/type_checking_dataframe.py:14: UserWarning: Removed QuantitiveDataFrame type check, might need to be included again\n",
      "  warnings.warn(\"Removed QuantitiveDataFrame type check, might need to be included again\")\n",
      "/home/joschout/Documents/Repos/MULES/Multi-Directional_Rule_Set_Learning/mdrsl/data_handling/type_checking_dataframe.py:28: UserWarning: All columns of a dataframe should be string types.\n",
      "The following columns are not stringly typed:\n",
      "\tSurvived: int64 Maybe you did not discretize all numerical attributes?\n",
      "CONVERTED THESE COLUMNS TO STRING!\n",
      "  warnings.warn(\n",
      "/home/joschout/Documents/Repos/MULES/Multi-Directional_Rule_Set_Learning/external_dependencies/SubmodularMaximization/submodmax/value_reuse/abstract_double_greedy_search.py:135: UserWarning: remove equality check\n",
      "  warnings.warn(\"remove equality check\")\n",
      "/home/joschout/Documents/Repos/MULES/Multi-Directional_Rule_Set_Learning/mdrsl/rule_models/multi_target_rule_set_clf_utils/default_classes.py:23: UserWarning: multiple modes found for some attributes in the training data; \n",
      "  Passenger_Cat Age_Cat Gender Survived\n",
      "0          crew   adult   male        0\n",
      "  warnings.warn(\"multiple modes found for some attributes in the training data; \\n\" + str(df_modes))\n"
     ]
    },
    {
     "name": "stdout",
     "output_type": "stream",
     "text": [
      "overlap cache prepared\n",
      "INITIALIZE f2 f3 cache\n",
      "max nb of integers necessary: 44700\n",
      "rough estimate nb of bytes necessary: 1072800\n",
      "FINISHED INITIALIZATION f2 f3 cache\n"
     ]
    },
    {
     "data": {
      "text/plain": "<mdrsl.rule_models.mids.model_fitting.mids_with_value_reuse.MIDSValueReuse at 0x7f867c08e670>"
     },
     "execution_count": 8,
     "metadata": {},
     "output_type": "execute_result"
    }
   ],
   "source": [
    "algorithm=\"RDGS\"\n",
    "from submodmax.value_reuse.randomized_double_greedy_search import RandomizedDoubleGreedySearch\n",
    "RandomizedDoubleGreedySearch.N_TRIES = 1\n",
    "\n",
    "mids = MIDSValueReuse()\n",
    "mids.fit(df_train,\n",
    "         use_targets_from_rule_set=use_targets_from_rule_set,\n",
    "         class_association_rules=cars, algorithm=algorithm, debug=debug)"
   ],
   "metadata": {
    "collapsed": false,
    "pycharm": {
     "name": "#%%\n"
    }
   }
  },
  {
   "cell_type": "markdown",
   "source": [
    "## Inspecting the fitted model"
   ],
   "metadata": {
    "collapsed": false,
    "pycharm": {
     "name": "#%% md\n",
     "is_executing": false
    }
   }
  },
  {
   "cell_type": "code",
   "execution_count": 9,
   "outputs": [
    {
     "name": "stdout",
     "output_type": "stream",
     "text": [
      "MIDS classifier (13 rules)\n",
      "\tRule combination stategy: RuleCombiningStrategy.WEIGHTED_VOTE\n",
      "\tDefault value strategy: DefaultClassStrategy.MAJORITY_VALUE_OVER_WHOLE_TRAINING_SET\n",
      "\t\tDefault predictions:{'Gender': 'male', 'Survived': '0', 'Age_Cat': 'adult', 'Passenger_Cat': 'crew'}\n",
      "\n"
     ]
    }
   ],
   "source": [
    "print(str(mids.classifier))"
   ],
   "metadata": {
    "collapsed": false,
    "pycharm": {
     "name": "#%%\n"
    }
   }
  },
  {
   "cell_type": "code",
   "execution_count": 10,
   "outputs": [
    {
     "name": "stdout",
     "output_type": "stream",
     "text": [
      "Age_Cat=adult -> Gender=male, Survived=0                           \ts: 0.597, c: 0.626\n",
      "Age_Cat=adult, Gender=male -> Passenger_Cat=crew                   \ts: 0.379, c: 0.506\n",
      "Age_Cat=adult, Passenger_Cat=1st_class, Survived=1 -> Gender=female\ts: 0.062, c: 0.726\n",
      "Age_Cat=adult, Passenger_Cat=crew -> Survived=0                    \ts: 0.294, c: 0.755\n",
      "Age_Cat=child, Gender=female -> Passenger_Cat=3rd_class            \ts: 0.015, c: 0.741\n",
      "Gender=female -> Age_Cat=adult                                     \ts: 0.202, c: 0.908\n",
      "Gender=female -> Survived=1                                        \ts: 0.159, c: 0.714\n",
      "Gender=male -> Age_Cat=adult, Survived=0                           \ts: 0.597, c: 0.767\n",
      "Gender=male, Passenger_Cat=2nd_class -> Age_Cat=adult, Survived=0  \ts: 0.076, c: 0.877\n",
      "Gender=male, Passenger_Cat=2nd_class -> Survived=0                 \ts: 0.076, c: 0.877\n",
      "Gender=male, Survived=0 -> Age_Cat=adult                           \ts: 0.597, c: 0.975\n",
      "Passenger_Cat=1st_class -> Survived=1                              \ts: 0.088, c: 0.620\n",
      "Passenger_Cat=crew -> Age_Cat=adult, Gender=male, Survived=0       \ts: 0.293, c: 0.751\n",
      "\n",
      "Default predictions:\n",
      " {'Gender': 'male', 'Survived': '0', 'Age_Cat': 'adult', 'Passenger_Cat': 'crew'}\n",
      "---\n"
     ]
    }
   ],
   "source": [
    "tree_mids_rules = mids.classifier.rules\n",
    "max_len: int = max([len(mids_mcar_to_pretty_string(mids_rule.car)) for mids_rule in tree_mids_rules])\n",
    "\n",
    "mids_rule_strs = []\n",
    "for mids_rule in tree_mids_rules:\n",
    "    mids_rule_strs.append(mids_mcar_to_pretty_string(mids_rule.car).ljust(\n",
    "            max_len) + \"\\t\" + f\"s: {mids_rule.car.support:0.3f}, c: {mids_rule.car.confidence:0.3f}\")\n",
    "\n",
    "mids_rule_strs.sort()\n",
    "for s in mids_rule_strs:\n",
    "    print(s)\n",
    "print()\n",
    "print(\"Default predictions:\\n\", mids.classifier.default_predictions)\n",
    "print(\"---\")\n"
   ],
   "metadata": {
    "collapsed": false,
    "pycharm": {
     "name": "#%%\n"
    }
   }
  },
  {
   "cell_type": "markdown",
   "source": [
    "We can print statistics about the values of the subobjective function during optimization:"
   ],
   "metadata": {
    "collapsed": false,
    "pycharm": {
     "name": "#%% md\n",
     "is_executing": false
    }
   }
  },
  {
   "cell_type": "code",
   "execution_count": 11,
   "outputs": [
    {
     "name": "stdout",
     "output_type": "stream",
     "text": [
      "type              f0          f1          f2          f3         f4          f5          f6     f_total\n",
      "--------  ----------  ----------  ----------  ----------  ---------  ----------  ----------  ----------\n",
      "count     302         302         302         302         302        302         302          302\n",
      "sum       204.633     226.205     300.752     301.913     215.625    297.786     220.14      1767.05\n",
      "min         0           0.21        0.980919    0.99876     0          0.963       0            4.70586\n",
      "avg         0.677594    0.749023    0.995868    0.999713    0.71399    0.986045    0.728942     5.85118\n",
      "max         1           1           1           1           0.75       1           0.803179     6.34336\n",
      "last_val    0.913333    0.935       0.999601    0.999954    0.75       0.99301     0.75246      6.34336\n"
     ]
    }
   ],
   "source": [
    "print(mids.objective_function.stat_collector)"
   ],
   "metadata": {
    "collapsed": false,
    "pycharm": {
     "name": "#%%\n"
    }
   }
  },
  {
   "cell_type": "markdown",
   "source": [
    "## Evaluating the MIDS classifier on test data\n",
    "\n"
   ],
   "metadata": {
    "collapsed": false,
    "pycharm": {
     "name": "#%% md\n"
    }
   }
  },
  {
   "cell_type": "markdown",
   "metadata": {
    "pycharm": {
     "is_executing": false,
     "name": "#%% md\n"
    }
   },
   "source": [
    "### Interpretability statistics\n",
    "We can calculate metrics capturing the interpretability of the selected rule set:"
   ]
  },
  {
   "cell_type": "code",
   "execution_count": 12,
   "outputs": [
    {
     "name": "stdout",
     "output_type": "stream",
     "text": [
      "Rule length stats: count=13, sum=39, min=2, average=3.0, max=4\n",
      "Fraction bodily overlap: 0.08787878787878788\n",
      "Fraction uncovered examples: 0.0\n",
      "Avg fraction predicted classes: 0.75\n",
      "Fraction predicted classs by target:\n",
      "\t{'Gender': 1.0, 'Survived': 1.0, 'Age_Cat': 0.5, 'Passenger_Cat': 0.5}\n",
      "\n"
     ]
    },
    {
     "name": "stderr",
     "output_type": "stream",
     "text": [
      "/home/joschout/Documents/Repos/MULES/Multi-Directional_Rule_Set_Learning/mdrsl/rule_models/mids/model_evaluation/mids_interpretability_metrics.py:89: UserWarning: FRACTION_OVERLAP IS CURRENTLY NOT RELATIVE TO A TARGET ATTRIBUTE. THIS MIGHT BE INCORRECT\n",
      "  warnings.warn(\"FRACTION_OVERLAP IS CURRENTLY NOT RELATIVE TO A TARGET ATTRIBUTE. THIS MIGHT BE INCORRECT\")\n",
      "/home/joschout/Documents/Repos/MULES/Multi-Directional_Rule_Set_Learning/mdrsl/data_structures/item.py:42: FutureWarning: elementwise comparison failed; returning scalar instead, but in the future will perform elementwise comparison\n",
      "  boolean_array: np.ndarray = value_array == value\n",
      "/home/joschout/Documents/Repos/MULES/Multi-Directional_Rule_Set_Learning/mdrsl/rule_models/mids/model_evaluation/mids_interpretability_metrics.py:260: UserWarning: Ugly conversion to string to deal with numerical attributes. Clean this up (look at Survived in Titanic).\n",
      "  warnings.warn(\n"
     ]
    }
   ],
   "source": [
    "from mdrsl.rule_models.mids.model_evaluation.mids_interpretability_metrics import MIDSInterpretabilityStatisticsCalculator\n",
    "from mdrsl.rule_models.mids.mids_ruleset import MIDSRuleSet\n",
    "\n",
    "metrics_calc = MIDSInterpretabilityStatisticsCalculator()\n",
    "rule_set_stats = metrics_calc.calculate_ruleset_statistics(\n",
    "    MIDSRuleSet(mids.classifier.rules), df_test, target_attributes=mids.classifier.target_attrs)\n",
    "print(rule_set_stats)"
   ],
   "metadata": {
    "collapsed": false,
    "pycharm": {
     "name": "#%%\n"
    }
   }
  },
  {
   "cell_type": "markdown",
   "source": [
    "### Predictive performance\n",
    "The predictive performance of the MIDS classifier can be evaluated for each attribute in the dataset."
   ],
   "metadata": {
    "collapsed": false,
    "pycharm": {
     "name": "#%% md\n"
    }
   }
  },
  {
   "cell_type": "code",
   "execution_count": 14,
   "metadata": {
    "pycharm": {
     "name": "#%%\n"
    }
   },
   "outputs": [
    {
     "name": "stderr",
     "output_type": "stream",
     "text": [
      "/home/joschout/Documents/Repos/MULES/Multi-Directional_Rule_Set_Learning/mdrsl/data_handling/type_checking_dataframe.py:14: UserWarning: Removed QuantitiveDataFrame type check, might need to be included again\n",
      "  warnings.warn(\"Removed QuantitiveDataFrame type check, might need to be included again\")\n"
     ]
    },
    {
     "name": "stdout",
     "output_type": "stream",
     "text": [
      "column: Passenger_Cat\n",
      "\tscore: 0.45\n",
      "---\n",
      "column: Age_Cat\n",
      "\tscore: 0.9363636363636364\n",
      "---\n",
      "column: Gender\n",
      "\tscore: 0.8227272727272728\n",
      "---\n",
      "column: Survived\n",
      "\tscore: 0.756818181818182\n",
      "---\n",
      "{'Passenger_Cat': 0.45, 'Age_Cat': 0.9363636363636364, 'Gender': 0.8227272727272728, 'Survived': 0.756818181818182}\n"
     ]
    }
   ],
   "source": [
    "from sklearn.metrics import f1_score\n",
    "import functools\n",
    "micro_avged_f1_score = functools.partial(f1_score, average='micro')\n",
    "\n",
    "metric = micro_avged_f1_score\n",
    "col_to_acc = {}\n",
    "for target_attribute in df_test.columns:\n",
    "    predicted_values = mids.predict(df_test, target_attribute)\n",
    "    actual_values = df_test[target_attribute].values\n",
    "    print(\"column:\", target_attribute)\n",
    "    score = metric(predicted_values, actual_values)\n",
    "    print(\"\\tscore:\", score)\n",
    "    print(\"---\")\n",
    "    col_to_acc[target_attribute] = score\n",
    "    \n",
    "print(col_to_acc)"
   ]
  },
  {
   "cell_type": "code",
   "execution_count": null,
   "outputs": [],
   "source": [],
   "metadata": {
    "collapsed": false,
    "pycharm": {
     "name": "#%%\n"
    }
   }
  }
 ],
 "metadata": {
  "kernelspec": {
   "display_name": "Python 3",
   "language": "python",
   "name": "python3"
  },
  "language_info": {
   "codemirror_mode": {
    "name": "ipython",
    "version": 3
   },
   "file_extension": ".py",
   "mimetype": "text/x-python",
   "name": "python",
   "nbconvert_exporter": "python",
   "pygments_lexer": "ipython3",
   "version": "3.7.3"
  }
 },
 "nbformat": 4,
 "nbformat_minor": 1
}