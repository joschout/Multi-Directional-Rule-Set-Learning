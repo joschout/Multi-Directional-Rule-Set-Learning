{
 "cells": [
  {
   "cell_type": "markdown",
   "metadata": {
    "pycharm": {
     "is_executing": false,
     "name": "#%% md\n"
    }
   },
   "source": [
    "# Basic use of Round Robin on Titanic"
   ]
  },
  {
   "cell_type": "code",
   "execution_count": 1,
   "outputs": [],
   "source": [
    "%load_ext autoreload\n",
    "%autoreload 2\n",
    "\n",
    "import sys\n",
    "import os\n",
    "\n",
    "import numpy as np\n",
    "import pandas as pd\n",
    "\n",
    "from typing import Dict, List, Set\n",
    "from mdrsl.data_structures.rules.multi_target_class_association_rule import MCAR\n",
    "from mdrsl.evaluation.predictive_performance_metrics import ScoreInfo\n",
    "from mdrsl.rule_models.mids.mids_rule import MIDSRule\n",
    "from mdrsl.rule_generation.association_rule_mining.mlext_impl.mlext_interaction import mine_MCARs_mlext\n",
    "from mdrsl.rule_models.rr.io_rr_rule_set_learner import store_greedy_naive_classifier, load_greedy_naive_classifier\n",
    "from mdrsl.rule_models.rr.scoring import score_mt_clf_on_its_targets_without_nans\n",
    "\n",
    "import matplotlib.pyplot as plt\n",
    "import seaborn as sns\n",
    "\n",
    "TargetAttr = str\n",
    "RuleSetScore = float"
   ],
   "metadata": {
    "collapsed": false,
    "pycharm": {
     "name": "#%%\n"
    }
   }
  },
  {
   "cell_type": "markdown",
   "source": [
    "## Loading the Titanic toy dataset"
   ],
   "metadata": {
    "collapsed": false
   }
  },
  {
   "cell_type": "code",
   "execution_count": 2,
   "outputs": [
    {
     "data": {
      "text/plain": "  Passenger_Cat Age_Cat Gender  Survived\n0     3rd_class   adult   male         0\n1          crew   adult   male         0\n2          crew   adult   male         0\n3     2nd_class   adult   male         0\n4          crew   adult   male         0",
      "text/html": "<div>\n<style scoped>\n    .dataframe tbody tr th:only-of-type {\n        vertical-align: middle;\n    }\n\n    .dataframe tbody tr th {\n        vertical-align: top;\n    }\n\n    .dataframe thead th {\n        text-align: right;\n    }\n</style>\n<table border=\"1\" class=\"dataframe\">\n  <thead>\n    <tr style=\"text-align: right;\">\n      <th></th>\n      <th>Passenger_Cat</th>\n      <th>Age_Cat</th>\n      <th>Gender</th>\n      <th>Survived</th>\n    </tr>\n  </thead>\n  <tbody>\n    <tr>\n      <th>0</th>\n      <td>3rd_class</td>\n      <td>adult</td>\n      <td>male</td>\n      <td>0</td>\n    </tr>\n    <tr>\n      <th>1</th>\n      <td>crew</td>\n      <td>adult</td>\n      <td>male</td>\n      <td>0</td>\n    </tr>\n    <tr>\n      <th>2</th>\n      <td>crew</td>\n      <td>adult</td>\n      <td>male</td>\n      <td>0</td>\n    </tr>\n    <tr>\n      <th>3</th>\n      <td>2nd_class</td>\n      <td>adult</td>\n      <td>male</td>\n      <td>0</td>\n    </tr>\n    <tr>\n      <th>4</th>\n      <td>crew</td>\n      <td>adult</td>\n      <td>male</td>\n      <td>0</td>\n    </tr>\n  </tbody>\n</table>\n</div>"
     },
     "execution_count": 2,
     "metadata": {},
     "output_type": "execute_result"
    }
   ],
   "source": [
    "from mdrsl.project_info import project_dir\n",
    "from mdrsl.toy_data.titanic import prepare_data_titanic\n",
    "\n",
    "data_dir = os.path.join(project_dir, 'data/external')\n",
    "\n",
    "df_train: pd.DataFrame\n",
    "df_test: pd.DataFrame\n",
    "df_train, df_test, dataset_name = prepare_data_titanic(data_dir, prop=0.25)\n",
    "df_train.head()"
   ],
   "metadata": {
    "collapsed": false,
    "pycharm": {
     "name": "#%%\n"
    }
   }
  },
  {
   "cell_type": "code",
   "execution_count": 3,
   "outputs": [
    {
     "data": {
      "text/plain": "array(['Passenger_Cat', 'Age_Cat', 'Gender', 'Survived'], dtype=object)"
     },
     "execution_count": 3,
     "metadata": {},
     "output_type": "execute_result"
    }
   ],
   "source": [
    "cols: np.ndarray = df_train.columns.values\n",
    "cols"
   ],
   "metadata": {
    "collapsed": false,
    "pycharm": {
     "name": "#%%\n"
    }
   }
  },
  {
   "cell_type": "markdown",
   "source": [
    "## Mining multi-target association rules"
   ],
   "metadata": {
    "collapsed": false
   }
  },
  {
   "cell_type": "code",
   "execution_count": 4,
   "outputs": [],
   "source": [
    "min_support = 0.01\n",
    "min_confidence = 0.5\n",
    "rule_cutoff = 150\n",
    "\n",
    "cars: List[MCAR]\n",
    "time_info: Dict[str, float]\n",
    "\n",
    "cars, time_info = mine_MCARs_mlext(df_train, min_support=min_support, min_confidence=min_confidence)\n",
    "if len(cars) > rule_cutoff:\n",
    "    cars = cars[:rule_cutoff]"
   ],
   "metadata": {
    "collapsed": false,
    "pycharm": {
     "name": "#%%\n"
    }
   }
  },
  {
   "cell_type": "code",
   "execution_count": 5,
   "metadata": {
    "pycharm": {
     "name": "#%%\n"
    }
   },
   "outputs": [
    {
     "name": "stdout",
     "output_type": "stream",
     "text": [
      "Age_Cat=adult -> Gender=male\n",
      "Gender=male -> Age_Cat=adult\n",
      "Age_Cat=adult -> Survived=0\n",
      "Survived=0 -> Age_Cat=adult\n",
      "Gender=male -> Survived=0\n",
      "Survived=0 -> Gender=male\n",
      "Age_Cat=adult, Gender=male -> Survived=0\n",
      "Age_Cat=adult, Survived=0 -> Gender=male\n",
      "Gender=male, Survived=0 -> Age_Cat=adult\n",
      "Age_Cat=adult -> Gender=male, Survived=0\n",
      "Gender=male -> Age_Cat=adult, Survived=0\n",
      "Survived=0 -> Age_Cat=adult, Gender=male\n",
      "Passenger_Cat=3rd_class -> Age_Cat=adult\n",
      "Passenger_Cat=3rd_class -> Survived=0\n",
      "Passenger_Cat=3rd_class -> Gender=male\n",
      "Age_Cat=adult, Passenger_Cat=3rd_class -> Survived=0\n",
      "Passenger_Cat=3rd_class, Survived=0 -> Age_Cat=adult\n",
      "Passenger_Cat=3rd_class -> Age_Cat=adult, Survived=0\n",
      "Age_Cat=adult, Passenger_Cat=3rd_class -> Gender=male\n",
      "Gender=male, Passenger_Cat=3rd_class -> Age_Cat=adult\n",
      "Passenger_Cat=3rd_class -> Age_Cat=adult, Gender=male\n",
      "Gender=male, Passenger_Cat=3rd_class -> Survived=0\n",
      "Passenger_Cat=3rd_class, Survived=0 -> Gender=male\n",
      "Passenger_Cat=3rd_class -> Gender=male, Survived=0\n",
      "Age_Cat=adult, Gender=male, Passenger_Cat=3rd_class -> Survived=0\n",
      "Age_Cat=adult, Passenger_Cat=3rd_class, Survived=0 -> Gender=male\n",
      "Gender=male, Passenger_Cat=3rd_class, Survived=0 -> Age_Cat=adult\n",
      "Age_Cat=adult, Passenger_Cat=3rd_class -> Gender=male, Survived=0\n",
      "Gender=male, Passenger_Cat=3rd_class -> Age_Cat=adult, Survived=0\n",
      "Passenger_Cat=3rd_class, Survived=0 -> Age_Cat=adult, Gender=male\n",
      "Passenger_Cat=3rd_class -> Age_Cat=adult, Gender=male, Survived=0\n",
      "Passenger_Cat=3rd_class, Survived=1 -> Age_Cat=adult\n",
      "Passenger_Cat=3rd_class, Survived=1 -> Gender=male\n",
      "Age_Cat=adult, Passenger_Cat=3rd_class, Survived=1 -> Gender=male\n",
      "Gender=male, Passenger_Cat=3rd_class, Survived=1 -> Age_Cat=adult\n",
      "Passenger_Cat=crew -> Age_Cat=adult\n",
      "Passenger_Cat=crew -> Gender=male\n",
      "Passenger_Cat=crew -> Survived=0\n",
      "Age_Cat=adult, Passenger_Cat=crew -> Gender=male\n",
      "Age_Cat=adult, Gender=male -> Passenger_Cat=crew\n",
      "Gender=male, Passenger_Cat=crew -> Age_Cat=adult\n",
      "Passenger_Cat=crew -> Age_Cat=adult, Gender=male\n",
      "Age_Cat=adult, Passenger_Cat=crew -> Survived=0\n",
      "Passenger_Cat=crew, Survived=0 -> Age_Cat=adult\n",
      "Passenger_Cat=crew -> Age_Cat=adult, Survived=0\n",
      "Gender=male, Passenger_Cat=crew -> Survived=0\n",
      "Passenger_Cat=crew, Survived=0 -> Gender=male\n",
      "Passenger_Cat=crew -> Gender=male, Survived=0\n",
      "Age_Cat=adult, Gender=male, Passenger_Cat=crew -> Survived=0\n",
      "Age_Cat=adult, Passenger_Cat=crew, Survived=0 -> Gender=male\n",
      "Age_Cat=adult, Gender=male, Survived=0 -> Passenger_Cat=crew\n",
      "Gender=male, Passenger_Cat=crew, Survived=0 -> Age_Cat=adult\n",
      "Age_Cat=adult, Passenger_Cat=crew -> Gender=male, Survived=0\n",
      "Gender=male, Passenger_Cat=crew -> Age_Cat=adult, Survived=0\n",
      "Passenger_Cat=crew, Survived=0 -> Age_Cat=adult, Gender=male\n",
      "Passenger_Cat=crew -> Age_Cat=adult, Gender=male, Survived=0\n",
      "Passenger_Cat=2nd_class -> Age_Cat=adult\n",
      "Passenger_Cat=2nd_class -> Gender=male\n",
      "Passenger_Cat=2nd_class -> Survived=0\n",
      "Age_Cat=adult, Passenger_Cat=2nd_class -> Gender=male\n",
      "Gender=male, Passenger_Cat=2nd_class -> Age_Cat=adult\n",
      "Passenger_Cat=2nd_class -> Age_Cat=adult, Gender=male\n",
      "Age_Cat=adult, Passenger_Cat=2nd_class -> Survived=0\n",
      "Passenger_Cat=2nd_class, Survived=0 -> Age_Cat=adult\n",
      "Passenger_Cat=2nd_class -> Age_Cat=adult, Survived=0\n",
      "Gender=male, Passenger_Cat=2nd_class -> Survived=0\n",
      "Passenger_Cat=2nd_class, Survived=0 -> Gender=male\n",
      "Passenger_Cat=2nd_class -> Gender=male, Survived=0\n",
      "Age_Cat=adult, Gender=male, Passenger_Cat=2nd_class -> Survived=0\n",
      "Age_Cat=adult, Passenger_Cat=2nd_class, Survived=0 -> Gender=male\n",
      "Gender=male, Passenger_Cat=2nd_class, Survived=0 -> Age_Cat=adult\n",
      "Age_Cat=adult, Passenger_Cat=2nd_class -> Gender=male, Survived=0\n",
      "Gender=male, Passenger_Cat=2nd_class -> Age_Cat=adult, Survived=0\n",
      "Passenger_Cat=2nd_class, Survived=0 -> Age_Cat=adult, Gender=male\n",
      "Passenger_Cat=2nd_class -> Age_Cat=adult, Gender=male, Survived=0\n",
      "Passenger_Cat=2nd_class, Survived=1 -> Age_Cat=adult\n",
      "Gender=female, Passenger_Cat=2nd_class -> Age_Cat=adult\n",
      "Gender=female, Passenger_Cat=2nd_class -> Survived=1\n",
      "Passenger_Cat=2nd_class, Survived=1 -> Gender=female\n",
      "Age_Cat=adult, Gender=female, Passenger_Cat=2nd_class -> Survived=1\n",
      "Age_Cat=adult, Passenger_Cat=2nd_class, Survived=1 -> Gender=female\n",
      "Gender=female, Passenger_Cat=2nd_class, Survived=1 -> Age_Cat=adult\n",
      "Gender=female, Passenger_Cat=2nd_class -> Age_Cat=adult, Survived=1\n",
      "Passenger_Cat=2nd_class, Survived=1 -> Age_Cat=adult, Gender=female\n",
      "Survived=1 -> Age_Cat=adult\n",
      "Survived=1 -> Gender=male\n",
      "Age_Cat=adult, Survived=1 -> Gender=male\n",
      "Gender=male, Survived=1 -> Age_Cat=adult\n",
      "Passenger_Cat=crew, Survived=1 -> Age_Cat=adult\n",
      "Passenger_Cat=crew, Survived=1 -> Gender=male\n",
      "Gender=male, Survived=1 -> Passenger_Cat=crew\n",
      "Age_Cat=adult, Passenger_Cat=crew, Survived=1 -> Gender=male\n",
      "Age_Cat=adult, Gender=male, Survived=1 -> Passenger_Cat=crew\n",
      "Gender=male, Passenger_Cat=crew, Survived=1 -> Age_Cat=adult\n",
      "Passenger_Cat=crew, Survived=1 -> Age_Cat=adult, Gender=male\n",
      "Gender=male, Survived=1 -> Age_Cat=adult, Passenger_Cat=crew\n",
      "Age_Cat=child -> Passenger_Cat=3rd_class\n",
      "Age_Cat=child -> Gender=male\n",
      "Age_Cat=child -> Survived=1\n",
      "Age_Cat=child, Gender=male -> Passenger_Cat=3rd_class\n",
      "Age_Cat=child, Passenger_Cat=3rd_class -> Gender=male\n",
      "Age_Cat=child, Gender=male -> Survived=1\n",
      "Age_Cat=child, Passenger_Cat=3rd_class -> Survived=0\n",
      "Age_Cat=child, Survived=0 -> Passenger_Cat=3rd_class\n",
      "Age_Cat=child, Survived=0 -> Gender=male\n",
      "Age_Cat=child, Gender=male, Passenger_Cat=3rd_class -> Survived=0\n",
      "Age_Cat=child, Gender=male, Survived=0 -> Passenger_Cat=3rd_class\n",
      "Age_Cat=child, Passenger_Cat=3rd_class, Survived=0 -> Gender=male\n",
      "Age_Cat=child, Survived=0 -> Gender=male, Passenger_Cat=3rd_class\n",
      "Age_Cat=child, Gender=female -> Passenger_Cat=3rd_class\n",
      "Age_Cat=child, Gender=female -> Survived=1\n",
      "Age_Cat=child, Survived=1 -> Gender=female\n",
      "Age_Cat=child, Survived=1 -> Passenger_Cat=3rd_class\n",
      "Age_Cat=child, Passenger_Cat=2nd_class -> Survived=1\n",
      "Gender=female -> Age_Cat=adult\n",
      "Gender=female -> Survived=1\n",
      "Gender=female, Passenger_Cat=3rd_class -> Age_Cat=adult\n",
      "Passenger_Cat=3rd_class, Survived=1 -> Gender=female\n",
      "Age_Cat=adult, Passenger_Cat=3rd_class, Survived=1 -> Gender=female\n",
      "Gender=female, Passenger_Cat=3rd_class, Survived=1 -> Age_Cat=adult\n",
      "Gender=female, Passenger_Cat=3rd_class -> Survived=0\n",
      "Gender=female, Survived=0 -> Passenger_Cat=3rd_class\n",
      "Gender=female, Survived=0 -> Age_Cat=adult\n",
      "Age_Cat=adult, Gender=female, Passenger_Cat=3rd_class -> Survived=0\n",
      "Age_Cat=adult, Gender=female, Survived=0 -> Passenger_Cat=3rd_class\n",
      "Gender=female, Passenger_Cat=3rd_class, Survived=0 -> Age_Cat=adult\n",
      "Gender=female, Survived=0 -> Age_Cat=adult, Passenger_Cat=3rd_class\n",
      "Age_Cat=adult, Gender=female -> Survived=1\n",
      "Gender=female, Survived=1 -> Age_Cat=adult\n",
      "Gender=female -> Age_Cat=adult, Survived=1\n",
      "Gender=female, Passenger_Cat=crew -> Age_Cat=adult\n",
      "Passenger_Cat=1st_class -> Age_Cat=adult\n",
      "Passenger_Cat=1st_class -> Survived=1\n",
      "Passenger_Cat=1st_class -> Gender=male\n",
      "Age_Cat=adult, Passenger_Cat=1st_class -> Survived=1\n",
      "Passenger_Cat=1st_class, Survived=1 -> Age_Cat=adult\n",
      "Passenger_Cat=1st_class -> Age_Cat=adult, Survived=1\n",
      "Gender=female, Passenger_Cat=1st_class -> Age_Cat=adult\n",
      "Gender=female, Passenger_Cat=1st_class -> Survived=1\n",
      "Passenger_Cat=1st_class, Survived=1 -> Gender=female\n",
      "Age_Cat=adult, Gender=female, Passenger_Cat=1st_class -> Survived=1\n",
      "Age_Cat=adult, Passenger_Cat=1st_class, Survived=1 -> Gender=female\n",
      "Gender=female, Passenger_Cat=1st_class, Survived=1 -> Age_Cat=adult\n",
      "Gender=female, Passenger_Cat=1st_class -> Age_Cat=adult, Survived=1\n",
      "Passenger_Cat=1st_class, Survived=1 -> Age_Cat=adult, Gender=female\n",
      "Age_Cat=adult, Passenger_Cat=1st_class -> Gender=male\n",
      "Gender=male, Passenger_Cat=1st_class -> Age_Cat=adult\n",
      "Passenger_Cat=1st_class -> Age_Cat=adult, Gender=male\n",
      "Gender=male, Passenger_Cat=1st_class, Survived=1 -> Age_Cat=adult\n",
      "Passenger_Cat=1st_class, Survived=0 -> Age_Cat=adult\n"
     ]
    }
   ],
   "source": [
    "from mdrsl.data_structures.rules.pretty_printing import mids_mcar_to_pretty_string\n",
    "for rule in cars:\n",
    "    print(mids_mcar_to_pretty_string(rule))"
   ]
  },
  {
   "cell_type": "markdown",
   "source": [
    "## Fitting a Round Robin model"
   ],
   "metadata": {
    "collapsed": false
   }
  },
  {
   "cell_type": "code",
   "execution_count": 6,
   "metadata": {
    "pycharm": {
     "name": "#%%\n"
    }
   },
   "outputs": [],
   "source": [
    "mids_rules = list(map(MIDSRule, cars))"
   ]
  },
  {
   "cell_type": "code",
   "execution_count": null,
   "outputs": [
    {
     "name": "stdout",
     "output_type": "stream",
     "text": [
      "Calculating init score for Passenger_Cat...\n",
      "Calculating init score for Age_Cat...\n",
      "Calculating init score for Gender...\n",
      "Calculating init score for Survived...\n",
      "=== start rule Learning ===\n",
      "Initial target scores (empty set): {'Passenger_Cat': 0.40045420136260407, 'Age_Cat': 0.9515518546555639, 'Gender': 0.7834973504920515, 'Survived': 0.6691900075700227}\n",
      "It 1 - target: Age_Cat  (1/4)\n",
      "Found no improvement for Age_Cat\n",
      "It 1 - target: Gender  (2/4)\n",
      "for target Gender, 6 rules lead to an improved prediction\n",
      "best rule results in score 0.8160484481453444\n",
      "6 rules are being considered as best...\n",
      "\tconsidering score for Age_Cat: 0.0\n",
      "\tconsidering score for Age_Cat: 0.0\n",
      "for target Gender, best rule least hurting others results in score 0.8160 (improvement of 0.0326)\n",
      "resetting improvement found flags for Gender ...\n",
      "End it. 2\n",
      "-------------------------\n",
      "It 2 - target: Survived  (1/4)\n",
      "for target Survived, 13 rules lead to an improved prediction\n",
      "best rule results in score 0.7645722937168812\n",
      "13 rules are being considered as best...\n",
      "\tconsidering score for Age_Cat: 0.0\n",
      "\tconsidering score for Age_Cat: 0.0\n",
      "\tconsidering score for Age_Cat: 0.0\n",
      "\tconsidering score for Age_Cat: 0.0\n",
      "for target Survived, best rule least hurting others results in score 0.7646 (improvement of 0.0954)\n",
      "resetting improvement found flags for Survived ...\n",
      "End it. 3\n",
      "-------------------------\n",
      "It 3 - target: Passenger_Cat  (1/4)\n",
      "for target Passenger_Cat, 10 rules lead to an improved prediction\n",
      "best rule results in score 0.4481453444360333\n",
      "10 rules are being considered as best...\n",
      "\tconsidering score for Age_Cat: 0.0\n",
      "\tconsidering score for Gender: 0.0\n",
      "for target Passenger_Cat, best rule least hurting others results in score 0.4481 (improvement of 0.0477)\n",
      "resetting improvement found flags for Passenger_Cat ...\n",
      "End it. 4\n",
      "-------------------------\n",
      "It 4 - target: Gender  (1/4)\n"
     ]
    },
    {
     "name": "stderr",
     "output_type": "stream",
     "text": [
      "/home/joschout/Documents/Repos/MULES/Multi-Directional_Rule_Set_Learning/mdrsl/data_handling/type_checking_dataframe.py:14: UserWarning: Removed QuantitiveDataFrame type check, might need to be included again\n",
      "  warnings.warn(\"Removed QuantitiveDataFrame type check, might need to be included again\")\n",
      "/home/joschout/Documents/Repos/MULES/Multi-Directional_Rule_Set_Learning/mdrsl/data_handling/type_checking_dataframe.py:28: UserWarning: All columns of a dataframe should be string types.\n",
      "The following columns are not stringly typed:\n",
      "\tSurvived: int64 Maybe you did not discretize all numerical attributes?\n",
      "CONVERTED THESE COLUMNS TO STRING!\n",
      "  warnings.warn(\n",
      "/home/joschout/Documents/Repos/MULES/Multi-Directional_Rule_Set_Learning/mdrsl/rule_models/multi_target_rule_set_clf_utils/default_classes.py:23: UserWarning: multiple modes found for some attributes in the training data; \n",
      "  Passenger_Cat Age_Cat Gender Survived\n",
      "0          crew   adult   male        0\n",
      "  warnings.warn(\"multiple modes found for some attributes in the training data; \\n\" + str(df_modes))\n",
      "/home/joschout/Documents/Repos/MULES/Multi-Directional_Rule_Set_Learning/mdrsl/data_handling/type_checking_dataframe.py:14: UserWarning: Removed QuantitiveDataFrame type check, might need to be included again\n",
      "  warnings.warn(\"Removed QuantitiveDataFrame type check, might need to be included again\")\n"
     ]
    }
   ],
   "source": [
    "from mdrsl.rule_models.rr.rr_rule_set_learner import GreedyRoundRobinTargetRuleClassifier\n",
    "\n",
    "clf = GreedyRoundRobinTargetRuleClassifier(df_train.columns,verbose=True, keep_score_evolution=True)\n",
    "\n",
    "selected_set: Set[MIDSRule]\n",
    "selected_set_scores: Dict[TargetAttr, RuleSetScore]\n",
    "selected_set, selected_set_scores = clf.fit(df_train, mids_rules)"
   ],
   "metadata": {
    "collapsed": false,
    "pycharm": {
     "name": "#%%\n",
     "is_executing": true
    }
   }
  },
  {
   "cell_type": "markdown",
   "source": [
    "## Inspecting the fitted model"
   ],
   "metadata": {
    "collapsed": false
   }
  },
  {
   "cell_type": "code",
   "execution_count": null,
   "outputs": [],
   "source": [
    "print(\"Rule set scores:\")\n",
    "print(selected_set_scores)\n",
    "print()\n",
    "print(\"Defaults:\")\n",
    "print(clf.default_predictions)\n",
    "print()\n",
    "print(\"Rules: \")\n",
    "for rule in selected_set:\n",
    "    print(rule)"
   ],
   "metadata": {
    "collapsed": false,
    "pycharm": {
     "name": "#%%\n",
     "is_executing": true
    }
   }
  },
  {
   "cell_type": "code",
   "execution_count": null,
   "outputs": [],
   "source": [
    "greedy_clf_rules = clf.learned_rule_set\n",
    "max_len: int = max([len(mids_mcar_to_pretty_string(mids_rule.car)) for mids_rule in greedy_clf_rules])\n",
    "greedy_rule_strs = []\n",
    "for mids_rule in clf.learned_rule_set:\n",
    "    greedy_rule_strs.append(mids_mcar_to_pretty_string(mids_rule.car).ljust(max_len)\n",
    "          + \"\\t\" + f\"s: {mids_rule.car.support:0.3f}, c: {mids_rule.car.confidence:0.3f}\"\n",
    "          )\n",
    "greedy_rule_strs.sort()\n",
    "for s in greedy_rule_strs:\n",
    "    print(s)\n",
    "print(\"Defaults\", clf.default_predictions)\n",
    "print(\"---\")\n"
   ],
   "metadata": {
    "collapsed": false,
    "pycharm": {
     "name": "#%%\n",
     "is_executing": true
    }
   }
  },
  {
   "cell_type": "code",
   "execution_count": null,
   "outputs": [],
   "source": [
    "clf.default_predictions"
   ],
   "metadata": {
    "collapsed": false,
    "pycharm": {
     "name": "#%%\n",
     "is_executing": true
    }
   }
  },
  {
   "cell_type": "code",
   "execution_count": null,
   "outputs": [],
   "source": [
    "target_to_score_info: Dict[TargetAttr, ScoreInfo] = score_mt_clf_on_its_targets_without_nans(\n",
    "    clf, df_test, filter_nans=True)"
   ],
   "metadata": {
    "collapsed": false,
    "pycharm": {
     "name": "#%%\n",
     "is_executing": true
    }
   }
  },
  {
   "cell_type": "code",
   "execution_count": null,
   "outputs": [],
   "source": [
    "for target, val in target_to_score_info.items():\n",
    "    print(target)\n",
    "    print(val.to_str(\"\\t\"))"
   ],
   "metadata": {
    "collapsed": false,
    "pycharm": {
     "name": "#%%\n",
     "is_executing": true
    }
   }
  },
  {
   "cell_type": "markdown",
   "source": [
    "### Visualization of the F1-score evolution during the fitting of the model"
   ],
   "metadata": {
    "collapsed": false,
    "pycharm": {
     "name": "#%% md\n"
    }
   }
  },
  {
   "cell_type": "code",
   "execution_count": null,
   "outputs": [],
   "source": [
    "df_score_evolution = clf.score_evolution_to_dataframe()\n",
    "df_score_evolution.head()"
   ],
   "metadata": {
    "collapsed": false,
    "pycharm": {
     "name": "#%%\n",
     "is_executing": true
    }
   }
  },
  {
   "cell_type": "code",
   "execution_count": null,
   "outputs": [],
   "source": [
    "sns.set(style=\"whitegrid\")\n",
    "\n",
    "width = 16\n",
    "height = 3\n",
    "figsize = (width, height)\n",
    "fig, axes = plt.subplots(figsize=figsize)\n",
    "ax = sns.lineplot(x='time_point',\n",
    "           y='score_value',\n",
    "           data=df_score_evolution,\n",
    "           hue='target_attribute'\n",
    "           )\n",
    "ax.set_title(f\"Evolution of rule set score when adding 1 rule at a time\")\n",
    "# ax3.tight_layout(rect=[0, 0.03, 1, 0.95]) # make sure the subplots don't overlap\n",
    "    \n",
    "plt.legend(bbox_to_anchor=(1.05, 1), loc=2, borderaxespad=0.)\n"
   ],
   "metadata": {
    "collapsed": false,
    "pycharm": {
     "name": "#%%\n",
     "is_executing": true
    }
   }
  },
  {
   "cell_type": "code",
   "execution_count": null,
   "outputs": [],
   "source": [
    "\n"
   ],
   "metadata": {
    "collapsed": false,
    "pycharm": {
     "name": "#%%\n"
    }
   }
  }
 ],
 "metadata": {
  "kernelspec": {
   "display_name": "Python 3",
   "language": "python",
   "name": "python3"
  },
  "language_info": {
   "codemirror_mode": {
    "name": "ipython",
    "version": 3
   },
   "file_extension": ".py",
   "mimetype": "text/x-python",
   "name": "python",
   "nbconvert_exporter": "python",
   "pygments_lexer": "ipython3",
   "version": "3.7.3"
  }
 },
 "nbformat": 4,
 "nbformat_minor": 1
}